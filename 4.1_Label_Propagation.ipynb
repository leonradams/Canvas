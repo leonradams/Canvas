{
 "cells": [
  {
   "cell_type": "markdown",
   "metadata": {
    "id": "ieUiNqS3KCZw"
   },
   "source": [
    "# Label Propagation\n",
    "\n",
    "Label propagation is similar to training a classification model and then using that model to make predictions on test data. The key difference is that in general, our analogue to the test data has no labels against which to evaluate our model. In this exercise, we keep the entire set of true labels for illustrative purposes, but the vast marjority of them play no role in training the model. \n",
    "\n",
    "This exercise is adapted from scikit-learn's [tutorial](https://scikit-learn.org/stable/auto_examples/semi_supervised/plot_label_propagation_digits.html) on zero shot learning ."
   ]
  },
  {
   "cell_type": "markdown",
   "metadata": {
    "id": "IESgGiUAlfZn"
   },
   "source": [
    "### Load the necessary modules and functions"
   ]
  },
  {
   "cell_type": "code",
   "execution_count": 1,
   "metadata": {
    "id": "hOVZd8fjgJyK"
   },
   "outputs": [],
   "source": [
    "import numpy as np\n",
    "import matplotlib.pyplot as plt\n",
    "\n",
    "from scipy import stats\n",
    "\n",
    "from sklearn import datasets\n",
    "from sklearn.semi_supervised import LabelSpreading\n",
    "\n",
    "from sklearn.metrics import confusion_matrix, classification_report"
   ]
  },
  {
   "cell_type": "markdown",
   "metadata": {
    "id": "0An6u8e9loVQ"
   },
   "source": [
    "### Exercise: Load and preprocess the data. \n",
    "1. Shuffle the indices\n",
    "2. Use the shuffled indices to extract 1000 random samples from the features data\n",
    "3. Extract the corresponding 1000 labels and images\n",
    "4. Copy the labels. Treat the first 50 shuffled samples as labeled data and the rest as unlabeled data. Replace the labels after the first 50 with -1.\n",
    "\n",
    "We'll use this copy of our labels (with 50 labels known and the other 950 hidden) to train our model, and use the original copy (with all 1000 labels known) to evaluate the model."
   ]
  },
  {
   "cell_type": "code",
   "execution_count": 2,
   "metadata": {
    "id": "XyaWhrhCgJyO"
   },
   "outputs": [],
   "source": [
    "# Load the digits dataset\n",
    "# digits = {data,target,indices}; n = 1797\n",
    "digits = datasets.load_digits()\n",
    "\n",
    "def get_data(n_total_samples, n_labeled_points):\n",
    "    # Set the random state to 2 for reproducibility\n",
    "    rng = np.random.RandomState(2)\n",
    "\n",
    "    # Initialize the indices as an ordered array, with each element corresponding to a sample in the dataset\n",
    "    indices = np.arange(len(digits.data))\n",
    "\n",
    "    # Shuffle the indices\n",
    "    rng.shuffle(indices)\n",
    "\n",
    "    # Use the shuffled indices to extract 1000 feature vectors, labels, and images\n",
    "    #n_total_samples = 1000\n",
    "    # Features\n",
    "    X = digits.data[indices[:n_total_samples]]\n",
    "    # Labels\n",
    "    y = digits.target[indices[:n_total_samples]]\n",
    "    # Images\n",
    "    images = digits.images[indices[:n_total_samples]]\n",
    "\n",
    "    # Copy the labels\n",
    "    y_train = np.copy(y)\n",
    "\n",
    "    # Replace all of the elements of y_train after the first 50 with -1, rendering them unlabeled\n",
    "    #n_labeled_points = 50\n",
    "    # Create an ordered array of indices of the training data\n",
    "    train_indices = np.arange(len(y_train))\n",
    "    # Define the training data indices after n_labeled_points as unlabeled\n",
    "    unlabeled_set = range(n_labeled_points, len(y_train))\n",
    "    # Conduct the label replacement\n",
    "    y_train[unlabeled_set] = -1\n",
    "    return X, y, y_train, unlabeled_set, images"
   ]
  },
  {
   "cell_type": "code",
   "execution_count": 3,
   "metadata": {
    "id": "8wHcs3qkgJyW"
   },
   "outputs": [],
   "source": [
    "def get_model(X, y_train, gamma = 0.25, max_iter = 20):\n",
    "    # Initialize the model\n",
    "    lp_model = LabelSpreading(gamma=0.25, max_iter = 20)\n",
    "    # Train the model\n",
    "    lp_model.fit(X, y_train)\n",
    "    return lp_model"
   ]
  },
  {
   "cell_type": "code",
   "execution_count": 4,
   "metadata": {
    "id": "CjFO-PxjgJya"
   },
   "outputs": [],
   "source": [
    "def model_assessment(model, true_labels):\n",
    "    # Extract the label predictions for the unlabeled data\n",
    "    predicted_labels = model.transduction_[unlabeled_set]\n",
    "\n",
    "    # Extract the true labels of the unlabeled data\n",
    "    #true_labels = y[unlabeled_set]\n",
    "    # Compute the confusion matrix between the true and predicted labels of the unlabeled data\n",
    "    cm = confusion_matrix(true_labels, predicted_labels, labels=model.classes_)\n",
    "\n",
    "    print(\"Label Spreading model: %d labeled & %d unlabeled points (%d total)\" %\n",
    "          (n_labeled_points, n_total_samples - n_labeled_points, n_total_samples))\n",
    "\n",
    "    print(classification_report(true_labels, predicted_labels))\n",
    "\n",
    "    print(\"Confusion matrix\")\n",
    "    print(cm)"
   ]
  },
  {
   "cell_type": "code",
   "execution_count": 14,
   "metadata": {
    "id": "2ajvW97mgJyf"
   },
   "outputs": [],
   "source": [
    "def examine_uncertain_predictions(model):\n",
    "    # Calculate uncertainty values for each transduced distribution\n",
    "\n",
    "    pred_entropies = stats.distributions.entropy(model.label_distributions_.T)\n",
    "\n",
    "    # Pick the top 10 most uncertain labels, in descending order of uncertainty\n",
    "    uncertainty_index = np.argsort(pred_entropies)[-10:]\n",
    "\n",
    "    # Plot\n",
    "    f = plt.figure(figsize=(7, 5))\n",
    "    for index, image_index in enumerate(uncertainty_index):\n",
    "        image = images[image_index]\n",
    "\n",
    "        sub = f.add_subplot(2, 5, index + 1)\n",
    "        sub.imshow(image, cmap=plt.cm.gray_r)\n",
    "        plt.xticks([])\n",
    "        plt.yticks([])\n",
    "        sub.set_title('predict: %i\\ntrue: %i' % (\n",
    "            model.transduction_[image_index], y[image_index]))\n",
    "\n",
    "    f.suptitle('Learning with small amount of labeled data')\n",
    "    plt.show()"
   ]
  },
  {
   "cell_type": "markdown",
   "metadata": {
    "id": "Ij_hVMtyvomW"
   },
   "source": [
    "Verify that the labels are randomly distributed and all the labels after the first 50 in `y_train` are hidden"
   ]
  },
  {
   "cell_type": "code",
   "execution_count": 5,
   "metadata": {
    "id": "39CAoaBzgJyR"
   },
   "outputs": [
    {
     "name": "stdout",
     "output_type": "stream",
     "text": [
      "[ 4  0  9  1  4  7  1  5  1  6  6  7  6  1  5  5  4  6  2  7  4  6  4  1\n",
      "  5  2  9  5  4  6  5  6  3  4  0  9  9  8  4  6  8  8  5  7  9  6  9  6\n",
      "  1  3 -1 -1 -1 -1 -1 -1 -1 -1 -1 -1 -1 -1 -1 -1 -1 -1 -1 -1 -1 -1 -1 -1\n",
      " -1 -1 -1 -1 -1 -1 -1 -1 -1 -1 -1 -1 -1 -1 -1 -1 -1 -1 -1 -1 -1 -1 -1 -1\n",
      " -1 -1 -1 -1]\n"
     ]
    }
   ],
   "source": [
    "n_total_samples = 1000\n",
    "n_labeled_points = 50\n",
    "X, y, y_train, unlabeled_set, images = get_data(n_total_samples, n_labeled_points)\n",
    "print(y_train[0:100])"
   ]
  },
  {
   "cell_type": "markdown",
   "metadata": {
    "id": "40hk3UKewEZe"
   },
   "source": [
    "### Do: \n",
    "Train the label propagation model with `gamma = 0.25` and `max_iter = 20`\n"
   ]
  },
  {
   "cell_type": "code",
   "execution_count": 6,
   "metadata": {},
   "outputs": [],
   "source": [
    "lp_model_50 = get_model(X, y_train, gamma = 0.25, max_iter = 20)"
   ]
  },
  {
   "cell_type": "markdown",
   "metadata": {
    "id": "LTBwLj2Gy8qM"
   },
   "source": [
    "### Do: \n",
    "Evaluate the model's performance on the unlabeled data"
   ]
  },
  {
   "cell_type": "code",
   "execution_count": 7,
   "metadata": {},
   "outputs": [
    {
     "name": "stdout",
     "output_type": "stream",
     "text": [
      "Label Spreading model: 50 labeled & 950 unlabeled points (1000 total)\n",
      "              precision    recall  f1-score   support\n",
      "\n",
      "           0       1.00      1.00      1.00        98\n",
      "           1       0.85      0.90      0.88        93\n",
      "           2       0.99      0.78      0.87        91\n",
      "           3       0.92      0.90      0.91       108\n",
      "           4       0.97      1.00      0.98        88\n",
      "           5       0.97      0.93      0.95       102\n",
      "           6       0.97      1.00      0.99       100\n",
      "           7       0.98      0.91      0.94        91\n",
      "           8       0.86      0.82      0.84        87\n",
      "           9       0.77      0.97      0.86        92\n",
      "\n",
      "    accuracy                           0.92       950\n",
      "   macro avg       0.93      0.92      0.92       950\n",
      "weighted avg       0.93      0.92      0.92       950\n",
      "\n",
      "Confusion matrix\n",
      "[[ 98   0   0   0   0   0   0   0   0   0]\n",
      " [  0  84   0   0   1   1   0   0   3   4]\n",
      " [  0  12  71   0   0   0   0   1   7   0]\n",
      " [  0   0   0  97   0   0   0   1   0  10]\n",
      " [  0   0   0   0  88   0   0   0   0   0]\n",
      " [  0   0   0   0   0  95   0   0   0   7]\n",
      " [  0   0   0   0   0   0 100   0   0   0]\n",
      " [  0   0   0   0   0   2   0  83   0   6]\n",
      " [  0   3   1   8   1   0   3   0  71   0]\n",
      " [  0   0   0   0   1   0   0   0   2  89]]\n"
     ]
    }
   ],
   "source": [
    "true_labels = y[unlabeled_set]\n",
    "model_assessment(lp_model_50, true_labels)"
   ]
  },
  {
   "cell_type": "markdown",
   "metadata": {
    "id": "Hwlk3ptY1YrL"
   },
   "source": [
    "<!-- ### Exercise: Find the 10 most uncertain labels in descending order of uncertainty, i.e. the labels for which the model made the least confident predictions. Plot the associated images. Observe any discrepancies between predicted and true labels. Do you see any patterns? What might account for them? -->"
   ]
  },
  {
   "cell_type": "code",
   "execution_count": 15,
   "metadata": {},
   "outputs": [
    {
     "data": {
      "image/png": "[encoded data removed]",
      "text/plain": [
       "<Figure size 504x360 with 10 Axes>"
      ]
     },
     "metadata": {},
     "output_type": "display_data"
    }
   ],
   "source": [
    "# Examine the 10 most uncertain labels\n",
    "examine_uncertain_predictions(lp_model_50)"
   ]
  },
  {
   "cell_type": "markdown",
   "metadata": {},
   "source": [
    "## Observations\n",
    "\n",
    "Ones (1) and nines (9) are the most uncertain for the 50 labeled model to predict, though it had less actual trouble predicting nines than ones."
   ]
  },
  {
   "cell_type": "markdown",
   "metadata": {
    "id": "xD119mlU69jb"
   },
   "source": [
    "### Repeat the experiment with 10, 100, and 250 labeled images. \n",
    "\n",
    "How do the differing numbers of labeled samples affect the model's performance? Which number detections yield the most errors?\n",
    "\n",
    "\n"
   ]
  },
  {
   "cell_type": "code",
   "execution_count": 18,
   "metadata": {},
   "outputs": [
    {
     "name": "stdout",
     "output_type": "stream",
     "text": [
      "########## Run analysis for 10 images ##########\n",
      "Label Spreading model: 10 labeled & 990 unlabeled points (1000 total)\n",
      "              precision    recall  f1-score   support\n",
      "\n",
      "           0       1.00      1.00      1.00        99\n",
      "           1       0.40      0.93      0.56        96\n",
      "           2       0.00      0.00      0.00        93\n",
      "           3       0.00      0.00      0.00       110\n",
      "           4       0.76      0.97      0.85        94\n",
      "           5       0.92      0.94      0.93       108\n",
      "           6       0.95      0.99      0.97       109\n",
      "           7       0.91      0.99      0.95        94\n",
      "           8       0.00      0.00      0.00        90\n",
      "           9       0.34      0.77      0.47        97\n",
      "\n",
      "    accuracy                           0.66       990\n",
      "   macro avg       0.53      0.66      0.57       990\n",
      "weighted avg       0.53      0.66      0.58       990\n",
      "\n",
      "Confusion matrix\n",
      "[[ 99   0   0   0   0   0   0]\n",
      " [  0  89   1   0   5   0   1]\n",
      " [  0   0  91   0   0   3   0]\n",
      " [  0   0   2 101   0   0   5]\n",
      " [  0   0   0   1 108   0   0]\n",
      " [  0   0   1   0   0  93   0]\n",
      " [  0   8  10   3   0   1  75]]\n"
     ]
    },
    {
     "name": "stderr",
     "output_type": "stream",
     "text": [
      "/home/leon/opt/miniconda3/envs/py3/lib/python3.9/site-packages/sklearn/metrics/_classification.py:1248: UndefinedMetricWarning: Precision and F-score are ill-defined and being set to 0.0 in labels with no predicted samples. Use `zero_division` parameter to control this behavior.\n",
      "  _warn_prf(average, modifier, msg_start, len(result))\n",
      "/home/leon/opt/miniconda3/envs/py3/lib/python3.9/site-packages/sklearn/metrics/_classification.py:1248: UndefinedMetricWarning: Precision and F-score are ill-defined and being set to 0.0 in labels with no predicted samples. Use `zero_division` parameter to control this behavior.\n",
      "  _warn_prf(average, modifier, msg_start, len(result))\n",
      "/home/leon/opt/miniconda3/envs/py3/lib/python3.9/site-packages/sklearn/metrics/_classification.py:1248: UndefinedMetricWarning: Precision and F-score are ill-defined and being set to 0.0 in labels with no predicted samples. Use `zero_division` parameter to control this behavior.\n",
      "  _warn_prf(average, modifier, msg_start, len(result))\n"
     ]
    },
    {
     "data": {
      "image/png": "[encoded data removed]",
      "text/plain": [
       "<Figure size 504x360 with 10 Axes>"
      ]
     },
     "metadata": {},
     "output_type": "display_data"
    },
    {
     "name": "stdout",
     "output_type": "stream",
     "text": [
      "\n",
      "\n",
      "########## Run analysis for 100 images ##########\n",
      "Label Spreading model: 100 labeled & 900 unlabeled points (1000 total)\n",
      "              precision    recall  f1-score   support\n",
      "\n",
      "           0       1.00      1.00      1.00        95\n",
      "           1       0.92      0.99      0.96        87\n",
      "           2       1.00      0.90      0.95        88\n",
      "           3       0.93      0.96      0.95        99\n",
      "           4       0.98      1.00      0.99        84\n",
      "           5       0.97      0.93      0.95        97\n",
      "           6       1.00      1.00      1.00        97\n",
      "           7       1.00      0.91      0.95        85\n",
      "           8       0.96      0.92      0.94        78\n",
      "           9       0.83      0.96      0.89        90\n",
      "\n",
      "    accuracy                           0.96       900\n",
      "   macro avg       0.96      0.96      0.96       900\n",
      "weighted avg       0.96      0.96      0.96       900\n",
      "\n",
      "Confusion matrix\n",
      "[[95  0  0  0  0  0  0  0  0  0]\n",
      " [ 0 86  0  0  0  1  0  0  0  0]\n",
      " [ 0  4 79  3  0  0  0  0  2  0]\n",
      " [ 0  0  0 95  0  0  0  0  0  4]\n",
      " [ 0  0  0  0 84  0  0  0  0  0]\n",
      " [ 0  0  0  0  0 90  0  0  0  7]\n",
      " [ 0  0  0  0  0  0 97  0  0  0]\n",
      " [ 0  0  0  0  0  2  0 77  0  6]\n",
      " [ 0  3  0  2  1  0  0  0 72  0]\n",
      " [ 0  0  0  2  1  0  0  0  1 86]]\n"
     ]
    },
    {
     "data": {
      "image/png": "[encoded data removed]",
      "text/plain": [
       "<Figure size 504x360 with 10 Axes>"
      ]
     },
     "metadata": {},
     "output_type": "display_data"
    },
    {
     "name": "stdout",
     "output_type": "stream",
     "text": [
      "\n",
      "\n",
      "########## Run analysis for 250 images ##########\n",
      "Label Spreading model: 250 labeled & 750 unlabeled points (1000 total)\n",
      "              precision    recall  f1-score   support\n",
      "\n",
      "           0       1.00      1.00      1.00        81\n",
      "           1       0.93      0.97      0.95        70\n",
      "           2       1.00      0.90      0.95        70\n",
      "           3       0.91      0.99      0.95        80\n",
      "           4       1.00      1.00      1.00        73\n",
      "           5       0.99      0.93      0.96        81\n",
      "           6       1.00      1.00      1.00        86\n",
      "           7       1.00      0.99      0.99        67\n",
      "           8       0.94      0.89      0.91        66\n",
      "           9       0.89      0.96      0.92        76\n",
      "\n",
      "    accuracy                           0.96       750\n",
      "   macro avg       0.97      0.96      0.96       750\n",
      "weighted avg       0.97      0.96      0.96       750\n",
      "\n",
      "Confusion matrix\n",
      "[[81  0  0  0  0  0  0  0  0  0]\n",
      " [ 0 68  0  0  0  1  0  0  1  0]\n",
      " [ 0  4 63  1  0  0  0  0  2  0]\n",
      " [ 0  0  0 79  0  0  0  0  0  1]\n",
      " [ 0  0  0  0 73  0  0  0  0  0]\n",
      " [ 0  0  0  0  0 75  0  0  0  6]\n",
      " [ 0  0  0  0  0  0 86  0  0  0]\n",
      " [ 0  0  0  0  0  0  0 66  0  1]\n",
      " [ 0  1  0  5  0  0  0  0 59  1]\n",
      " [ 0  0  0  2  0  0  0  0  1 73]]\n"
     ]
    },
    {
     "data": {
      "image/png": "[encoded data removed]",
      "text/plain": [
       "<Figure size 504x360 with 10 Axes>"
      ]
     },
     "metadata": {},
     "output_type": "display_data"
    },
    {
     "name": "stdout",
     "output_type": "stream",
     "text": [
      "\n",
      "\n"
     ]
    }
   ],
   "source": [
    "for num_labeled_images in [10, 100, 250]:\n",
    "    print(f\"########## Run analysis for {num_labeled_images} images ##########\")\n",
    "    n_total_samples = 1000\n",
    "    n_labeled_points = num_labeled_images\n",
    "    X, y, y_train, unlabeled_set, images = get_data(n_total_samples, n_labeled_points)\n",
    "    model = get_model(X, y_train, gamma = 0.25, max_iter = 20)\n",
    "    true_labels = y[unlabeled_set]\n",
    "    model_assessment(model, true_labels)\n",
    "    examine_uncertain_predictions(model)\n",
    "    print(f\"\\n\")"
   ]
  },
  {
   "cell_type": "markdown",
   "metadata": {},
   "source": [
    "## Observations\n",
    "\n",
    "The 10 labeled images model produced the most errors having a weighted average f1-score  of 0.58 compared to 0.96 for both the 100 and 250 labeled image models.  We can conclude that 10 images was insufficient to bootstrap the semisupervised learning process.  Additionally, there is a threshold for the number of labeled images above which the semisupervised learning process provide no additional benefits beyond traditional classification. "
   ]
  },
  {
   "cell_type": "markdown",
   "metadata": {
    "id": "kkRsW03Vvtp6"
   },
   "source": [
    "## Goal\n",
    "\n",
    "The goal of this exercise if to identify the instances when misclassification occurs the most. Label spreading applied sample neighborhood to assign labels to unlabelled samples which may lead to misclassifications. For more details on the assessment please see https://benlevinson.com/projects/comparing-knn-svm-mnist"
   ]
  },
  {
   "cell_type": "code",
   "execution_count": null,
   "metadata": {
    "id": "-nxhhrcsyfwb"
   },
   "outputs": [],
   "source": []
  }
 ],
 "metadata": {
  "colab": {
   "collapsed_sections": [],
   "name": "4.1_Label_Propagation.ipynb",
   "provenance": [
    {
     "file_id": "1yR5pOmzisGtC3wDFKftkCtyB4dC50dla",
     "timestamp": 1623538274977
    },
    {
     "file_id": "1wR4Sk33vvBwuPkDoYo8VlGMChED39t0t",
     "timestamp": 1604606505111
    }
   ]
  },
  "kernelspec": {
   "display_name": "Python 3",
   "language": "python",
   "name": "python3"
  },
  "language_info": {
   "codemirror_mode": {
    "name": "ipython",
    "version": 3
   },
   "file_extension": ".py",
   "mimetype": "text/x-python",
   "name": "python",
   "nbconvert_exporter": "python",
   "pygments_lexer": "ipython3",
   "version": "3.8.10"
  }
 },
 "nbformat": 4,
 "nbformat_minor": 4
}
