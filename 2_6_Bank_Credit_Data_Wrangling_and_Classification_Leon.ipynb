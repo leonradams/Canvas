{
  "nbformat": 4,
  "nbformat_minor": 0,
  "metadata": {
    "kernelspec": {
      "display_name": "Python 3",
      "language": "python",
      "name": "python3"
    },
    "language_info": {
      "codemirror_mode": {
        "name": "ipython",
        "version": 3
      },
      "file_extension": ".py",
      "mimetype": "text/x-python",
      "name": "python",
      "nbconvert_exporter": "python",
      "pygments_lexer": "ipython3",
      "version": "3.8.5"
    },
    "colab": {
      "name": "2.6_Bank_Credit_Data_Wrangling_and_Classification_Leon.ipynb",
      "provenance": [],
      "collapsed_sections": [],
      "include_colab_link": true
    }
  },
  "cells": [
    {
      "cell_type": "markdown",
      "metadata": {
        "id": "view-in-github",
        "colab_type": "text"
      },
      "source": [
        "<a href=\"https://colab.research.google.com/github/leonradams/Canvas/blob/main/2_6_Bank_Credit_Data_Wrangling_and_Classification_Leon.ipynb\" target=\"_parent\"><img src=\"https://colab.research.google.com/assets/colab-badge.svg\" alt=\"Open In Colab\"/></a>"
      ]
    },
    {
      "cell_type": "markdown",
      "metadata": {
        "id": "YfmfqwuApc2h"
      },
      "source": [
        "# This assignment provides hands-on data wrangling and classification experience\n",
        "For this assignment, you are a Machine Learning Engineer at a local bank, and your task is to analyze whether loan applicants qualify, based on their personal information.\n",
        "Tasks are:\n",
        "I. Data wrangling to perform one-hot-encoding for the data and normalization\n",
        "II. Eliminating unimportant features\n",
        "III. Performing classification to predict qualification for loan in future."
      ]
    },
    {
      "cell_type": "markdown",
      "metadata": {
        "id": "JWibA4lcO-P-"
      },
      "source": [
        "### Import the necessary modules"
      ]
    },
    {
      "cell_type": "code",
      "metadata": {
        "id": "bJf_0Ce3pc2i",
        "colab": {
          "base_uri": "https://localhost:8080/"
        },
        "outputId": "421c90d0-9807-45b4-cc92-175396f95657"
      },
      "source": [
        "import os\n",
        "import tensorflow as tf\n",
        "#from tensorflow.contrib.tensorboard.plugins import projector\n",
        "import numpy as np\n",
        "import pandas as pd\n",
        "from sklearn.preprocessing import StandardScaler\n",
        "from sklearn.decomposition import PCA\n",
        "import matplotlib.pyplot as plt\n",
        "import seaborn as sns\n",
        "import statsmodels.api as sm\n",
        "%matplotlib inline\n",
        "from sklearn.model_selection import train_test_split\n",
        "from sklearn.linear_model import LinearRegression\n",
        "from sklearn.feature_selection import RFE\n",
        "from sklearn.linear_model import RidgeCV, LassoCV, Ridge, Lasso\n",
        "from sklearn.ensemble import RandomForestClassifier\n",
        "from sklearn.metrics import confusion_matrix"
      ],
      "execution_count": 1,
      "outputs": [
        {
          "output_type": "stream",
          "text": [
            "/usr/local/lib/python3.7/dist-packages/statsmodels/tools/_testing.py:19: FutureWarning: pandas.util.testing is deprecated. Use the functions in the public API at pandas.testing instead.\n",
            "  import pandas.util.testing as tm\n"
          ],
          "name": "stderr"
        }
      ]
    },
    {
      "cell_type": "markdown",
      "metadata": {
        "id": "dZI-Envb6c4J"
      },
      "source": [
        "### Load the training data. Print out its shape and first few rows."
      ]
    },
    {
      "cell_type": "code",
      "metadata": {
        "id": "5njoB1HRpc2o",
        "colab": {
          "base_uri": "https://localhost:8080/",
          "height": 223
        },
        "outputId": "3e5db19e-3ea7-4f5e-dd17-d2a44e799a46"
      },
      "source": [
        "url = \"https://raw.githubusercontent.com/FourthBrain/2.-Classification/main/bank-full.csv?token=ARJV76TWTYENKFZKXB4CUYS7SIDOM\"\n",
        "df_train = pd.read_csv(url, sep=';')\n",
        "print(np.shape(df_train))\n",
        "df_train.head()\n"
      ],
      "execution_count": 2,
      "outputs": [
        {
          "output_type": "stream",
          "text": [
            "(45211, 17)\n"
          ],
          "name": "stdout"
        },
        {
          "output_type": "execute_result",
          "data": {
            "text/html": [
              "<div>\n",
              "<style scoped>\n",
              "    .dataframe tbody tr th:only-of-type {\n",
              "        vertical-align: middle;\n",
              "    }\n",
              "\n",
              "    .dataframe tbody tr th {\n",
              "        vertical-align: top;\n",
              "    }\n",
              "\n",
              "    .dataframe thead th {\n",
              "        text-align: right;\n",
              "    }\n",
              "</style>\n",
              "<table border=\"1\" class=\"dataframe\">\n",
              "  <thead>\n",
              "    <tr style=\"text-align: right;\">\n",
              "      <th></th>\n",
              "      <th>age</th>\n",
              "      <th>job</th>\n",
              "      <th>marital</th>\n",
              "      <th>education</th>\n",
              "      <th>default</th>\n",
              "      <th>balance</th>\n",
              "      <th>housing</th>\n",
              "      <th>loan</th>\n",
              "      <th>contact</th>\n",
              "      <th>day</th>\n",
              "      <th>month</th>\n",
              "      <th>duration</th>\n",
              "      <th>campaign</th>\n",
              "      <th>pdays</th>\n",
              "      <th>previous</th>\n",
              "      <th>poutcome</th>\n",
              "      <th>y</th>\n",
              "    </tr>\n",
              "  </thead>\n",
              "  <tbody>\n",
              "    <tr>\n",
              "      <th>0</th>\n",
              "      <td>58</td>\n",
              "      <td>management</td>\n",
              "      <td>married</td>\n",
              "      <td>tertiary</td>\n",
              "      <td>no</td>\n",
              "      <td>2143</td>\n",
              "      <td>yes</td>\n",
              "      <td>no</td>\n",
              "      <td>unknown</td>\n",
              "      <td>5</td>\n",
              "      <td>may</td>\n",
              "      <td>261</td>\n",
              "      <td>1</td>\n",
              "      <td>-1</td>\n",
              "      <td>0</td>\n",
              "      <td>unknown</td>\n",
              "      <td>no</td>\n",
              "    </tr>\n",
              "    <tr>\n",
              "      <th>1</th>\n",
              "      <td>44</td>\n",
              "      <td>technician</td>\n",
              "      <td>single</td>\n",
              "      <td>secondary</td>\n",
              "      <td>no</td>\n",
              "      <td>29</td>\n",
              "      <td>yes</td>\n",
              "      <td>no</td>\n",
              "      <td>unknown</td>\n",
              "      <td>5</td>\n",
              "      <td>may</td>\n",
              "      <td>151</td>\n",
              "      <td>1</td>\n",
              "      <td>-1</td>\n",
              "      <td>0</td>\n",
              "      <td>unknown</td>\n",
              "      <td>no</td>\n",
              "    </tr>\n",
              "    <tr>\n",
              "      <th>2</th>\n",
              "      <td>33</td>\n",
              "      <td>entrepreneur</td>\n",
              "      <td>married</td>\n",
              "      <td>secondary</td>\n",
              "      <td>no</td>\n",
              "      <td>2</td>\n",
              "      <td>yes</td>\n",
              "      <td>yes</td>\n",
              "      <td>unknown</td>\n",
              "      <td>5</td>\n",
              "      <td>may</td>\n",
              "      <td>76</td>\n",
              "      <td>1</td>\n",
              "      <td>-1</td>\n",
              "      <td>0</td>\n",
              "      <td>unknown</td>\n",
              "      <td>no</td>\n",
              "    </tr>\n",
              "    <tr>\n",
              "      <th>3</th>\n",
              "      <td>47</td>\n",
              "      <td>blue-collar</td>\n",
              "      <td>married</td>\n",
              "      <td>unknown</td>\n",
              "      <td>no</td>\n",
              "      <td>1506</td>\n",
              "      <td>yes</td>\n",
              "      <td>no</td>\n",
              "      <td>unknown</td>\n",
              "      <td>5</td>\n",
              "      <td>may</td>\n",
              "      <td>92</td>\n",
              "      <td>1</td>\n",
              "      <td>-1</td>\n",
              "      <td>0</td>\n",
              "      <td>unknown</td>\n",
              "      <td>no</td>\n",
              "    </tr>\n",
              "    <tr>\n",
              "      <th>4</th>\n",
              "      <td>33</td>\n",
              "      <td>unknown</td>\n",
              "      <td>single</td>\n",
              "      <td>unknown</td>\n",
              "      <td>no</td>\n",
              "      <td>1</td>\n",
              "      <td>no</td>\n",
              "      <td>no</td>\n",
              "      <td>unknown</td>\n",
              "      <td>5</td>\n",
              "      <td>may</td>\n",
              "      <td>198</td>\n",
              "      <td>1</td>\n",
              "      <td>-1</td>\n",
              "      <td>0</td>\n",
              "      <td>unknown</td>\n",
              "      <td>no</td>\n",
              "    </tr>\n",
              "  </tbody>\n",
              "</table>\n",
              "</div>"
            ],
            "text/plain": [
              "   age           job  marital  education  ... pdays  previous poutcome   y\n",
              "0   58    management  married   tertiary  ...    -1         0  unknown  no\n",
              "1   44    technician   single  secondary  ...    -1         0  unknown  no\n",
              "2   33  entrepreneur  married  secondary  ...    -1         0  unknown  no\n",
              "3   47   blue-collar  married    unknown  ...    -1         0  unknown  no\n",
              "4   33       unknown   single    unknown  ...    -1         0  unknown  no\n",
              "\n",
              "[5 rows x 17 columns]"
            ]
          },
          "metadata": {
            "tags": []
          },
          "execution_count": 2
        }
      ]
    },
    {
      "cell_type": "markdown",
      "metadata": {
        "id": "HEzNSJaWzuYr"
      },
      "source": [
        "### Exercise: Perform Exploratory Data Analysis on each feature"
      ]
    },
    {
      "cell_type": "code",
      "metadata": {
        "id": "EGYERv-Jpc2r",
        "colab": {
          "base_uri": "https://localhost:8080/",
          "height": 717
        },
        "outputId": "3b959560-e455-4fef-9e27-deedd47f19e2"
      },
      "source": [
        "### START CODE HERE ###\n",
        "# Get the info (column number and name, non-null count, and dtype) for each column in the training df\n",
        "df_train.info()\n",
        "# Get summary statistics for the training df with the describe() method\n",
        "df_train.describe()\n",
        "### END CODE HERE ###"
      ],
      "execution_count": 3,
      "outputs": [
        {
          "output_type": "stream",
          "text": [
            "<class 'pandas.core.frame.DataFrame'>\n",
            "RangeIndex: 45211 entries, 0 to 45210\n",
            "Data columns (total 17 columns):\n",
            " #   Column     Non-Null Count  Dtype \n",
            "---  ------     --------------  ----- \n",
            " 0   age        45211 non-null  int64 \n",
            " 1   job        45211 non-null  object\n",
            " 2   marital    45211 non-null  object\n",
            " 3   education  45211 non-null  object\n",
            " 4   default    45211 non-null  object\n",
            " 5   balance    45211 non-null  int64 \n",
            " 6   housing    45211 non-null  object\n",
            " 7   loan       45211 non-null  object\n",
            " 8   contact    45211 non-null  object\n",
            " 9   day        45211 non-null  int64 \n",
            " 10  month      45211 non-null  object\n",
            " 11  duration   45211 non-null  int64 \n",
            " 12  campaign   45211 non-null  int64 \n",
            " 13  pdays      45211 non-null  int64 \n",
            " 14  previous   45211 non-null  int64 \n",
            " 15  poutcome   45211 non-null  object\n",
            " 16  y          45211 non-null  object\n",
            "dtypes: int64(7), object(10)\n",
            "memory usage: 5.9+ MB\n"
          ],
          "name": "stdout"
        },
        {
          "output_type": "execute_result",
          "data": {
            "text/html": [
              "<div>\n",
              "<style scoped>\n",
              "    .dataframe tbody tr th:only-of-type {\n",
              "        vertical-align: middle;\n",
              "    }\n",
              "\n",
              "    .dataframe tbody tr th {\n",
              "        vertical-align: top;\n",
              "    }\n",
              "\n",
              "    .dataframe thead th {\n",
              "        text-align: right;\n",
              "    }\n",
              "</style>\n",
              "<table border=\"1\" class=\"dataframe\">\n",
              "  <thead>\n",
              "    <tr style=\"text-align: right;\">\n",
              "      <th></th>\n",
              "      <th>age</th>\n",
              "      <th>balance</th>\n",
              "      <th>day</th>\n",
              "      <th>duration</th>\n",
              "      <th>campaign</th>\n",
              "      <th>pdays</th>\n",
              "      <th>previous</th>\n",
              "    </tr>\n",
              "  </thead>\n",
              "  <tbody>\n",
              "    <tr>\n",
              "      <th>count</th>\n",
              "      <td>45211.000000</td>\n",
              "      <td>45211.000000</td>\n",
              "      <td>45211.000000</td>\n",
              "      <td>45211.000000</td>\n",
              "      <td>45211.000000</td>\n",
              "      <td>45211.000000</td>\n",
              "      <td>45211.000000</td>\n",
              "    </tr>\n",
              "    <tr>\n",
              "      <th>mean</th>\n",
              "      <td>40.936210</td>\n",
              "      <td>1362.272058</td>\n",
              "      <td>15.806419</td>\n",
              "      <td>258.163080</td>\n",
              "      <td>2.763841</td>\n",
              "      <td>40.197828</td>\n",
              "      <td>0.580323</td>\n",
              "    </tr>\n",
              "    <tr>\n",
              "      <th>std</th>\n",
              "      <td>10.618762</td>\n",
              "      <td>3044.765829</td>\n",
              "      <td>8.322476</td>\n",
              "      <td>257.527812</td>\n",
              "      <td>3.098021</td>\n",
              "      <td>100.128746</td>\n",
              "      <td>2.303441</td>\n",
              "    </tr>\n",
              "    <tr>\n",
              "      <th>min</th>\n",
              "      <td>18.000000</td>\n",
              "      <td>-8019.000000</td>\n",
              "      <td>1.000000</td>\n",
              "      <td>0.000000</td>\n",
              "      <td>1.000000</td>\n",
              "      <td>-1.000000</td>\n",
              "      <td>0.000000</td>\n",
              "    </tr>\n",
              "    <tr>\n",
              "      <th>25%</th>\n",
              "      <td>33.000000</td>\n",
              "      <td>72.000000</td>\n",
              "      <td>8.000000</td>\n",
              "      <td>103.000000</td>\n",
              "      <td>1.000000</td>\n",
              "      <td>-1.000000</td>\n",
              "      <td>0.000000</td>\n",
              "    </tr>\n",
              "    <tr>\n",
              "      <th>50%</th>\n",
              "      <td>39.000000</td>\n",
              "      <td>448.000000</td>\n",
              "      <td>16.000000</td>\n",
              "      <td>180.000000</td>\n",
              "      <td>2.000000</td>\n",
              "      <td>-1.000000</td>\n",
              "      <td>0.000000</td>\n",
              "    </tr>\n",
              "    <tr>\n",
              "      <th>75%</th>\n",
              "      <td>48.000000</td>\n",
              "      <td>1428.000000</td>\n",
              "      <td>21.000000</td>\n",
              "      <td>319.000000</td>\n",
              "      <td>3.000000</td>\n",
              "      <td>-1.000000</td>\n",
              "      <td>0.000000</td>\n",
              "    </tr>\n",
              "    <tr>\n",
              "      <th>max</th>\n",
              "      <td>95.000000</td>\n",
              "      <td>102127.000000</td>\n",
              "      <td>31.000000</td>\n",
              "      <td>4918.000000</td>\n",
              "      <td>63.000000</td>\n",
              "      <td>871.000000</td>\n",
              "      <td>275.000000</td>\n",
              "    </tr>\n",
              "  </tbody>\n",
              "</table>\n",
              "</div>"
            ],
            "text/plain": [
              "                age        balance  ...         pdays      previous\n",
              "count  45211.000000   45211.000000  ...  45211.000000  45211.000000\n",
              "mean      40.936210    1362.272058  ...     40.197828      0.580323\n",
              "std       10.618762    3044.765829  ...    100.128746      2.303441\n",
              "min       18.000000   -8019.000000  ...     -1.000000      0.000000\n",
              "25%       33.000000      72.000000  ...     -1.000000      0.000000\n",
              "50%       39.000000     448.000000  ...     -1.000000      0.000000\n",
              "75%       48.000000    1428.000000  ...     -1.000000      0.000000\n",
              "max       95.000000  102127.000000  ...    871.000000    275.000000\n",
              "\n",
              "[8 rows x 7 columns]"
            ]
          },
          "metadata": {
            "tags": []
          },
          "execution_count": 3
        }
      ]
    },
    {
      "cell_type": "markdown",
      "metadata": {
        "id": "Y9586xIUz-ji"
      },
      "source": [
        "### Exercise: Visualize the distributions of each numeric feature"
      ]
    },
    {
      "cell_type": "code",
      "metadata": {
        "id": "Ev8UvLP3jgDZ",
        "colab": {
          "base_uri": "https://localhost:8080/",
          "height": 1000
        },
        "outputId": "74b76fe2-7600-4a82-b8ee-6b3ce8f266e4"
      },
      "source": [
        "### START CODE HERE ###\n",
        "# Use a list comprehension to extract the names of the numeric columns of the training df \n",
        "# (those with an integer dtype)\n",
        "numeric_columns = df_train.select_dtypes(include=np.number).columns.tolist()\n",
        "# Loop through the numeric columns\n",
        "for col in numeric_columns:\n",
        "    # Generate a histogram of the current numeric feature column\n",
        "    plt.hist(df_train.loc[:, col])\n",
        "    plt.title(f'{col} distribution')\n",
        "    plt.show()\n",
        "### END CODE HERE ###"
      ],
      "execution_count": 4,
      "outputs": [
        {
          "output_type": "display_data",
          "data": {
            "image/png": "[encoded data removed]",
            "text/plain": [
              "<Figure size 432x288 with 1 Axes>"
            ]
          },
          "metadata": {
            "tags": [],
            "needs_background": "light"
          }
        },
        {
          "output_type": "display_data",
          "data": {
            "image/png": "[encoded data removed]",
            "text/plain": [
              "<Figure size 432x288 with 1 Axes>"
            ]
          },
          "metadata": {
            "tags": [],
            "needs_background": "light"
          }
        },
        {
          "output_type": "display_data",
          "data": {
            "image/png": "[encoded data removed]",
            "text/plain": [
              "<Figure size 432x288 with 1 Axes>"
            ]
          },
          "metadata": {
            "tags": [],
            "needs_background": "light"
          }
        },
        {
          "output_type": "display_data",
          "data": {
            "image/png": "[encoded data removed]",
            "text/plain": [
              "<Figure size 432x288 with 1 Axes>"
            ]
          },
          "metadata": {
            "tags": [],
            "needs_background": "light"
          }
        },
        {
          "output_type": "display_data",
          "data": {
            "image/png": "[encoded data removed]",
            "text/plain": [
              "<Figure size 432x288 with 1 Axes>"
            ]
          },
          "metadata": {
            "tags": [],
            "needs_background": "light"
          }
        },
        {
          "output_type": "display_data",
          "data": {
            "image/png": "[encoded data removed]",
            "text/plain": [
              "<Figure size 432x288 with 1 Axes>"
            ]
          },
          "metadata": {
            "tags": [],
            "needs_background": "light"
          }
        },
        {
          "output_type": "display_data",
          "data": {
            "image/png": "[encoded data removed]",
            "text/plain": [
              "<Figure size 432x288 with 1 Axes>"
            ]
          },
          "metadata": {
            "tags": [],
            "needs_background": "light"
          }
        }
      ]
    },
    {
      "cell_type": "markdown",
      "metadata": {
        "id": "-wibVprU0wdX"
      },
      "source": [
        "### Exercise: Inspect the unique values of the non-numeric columns, and their counts"
      ]
    },
    {
      "cell_type": "code",
      "metadata": {
        "id": "2ko1zBgNabH7",
        "colab": {
          "base_uri": "https://localhost:8080/"
        },
        "outputId": "8f5da080-f716-44f2-d255-1ef5031a3b28"
      },
      "source": [
        "### START CODE HERE ###\n",
        "# Use a list comprehension to list the names of the non-numeric columns in the training df\n",
        "# (those with an object dtype)\n",
        "non_numeric_columns = df_train.select_dtypes(exclude=np.number).columns.tolist()\n",
        "# Loop through the non-numeric columns\n",
        "for col in non_numeric_columns:\n",
        "    # Print the counts of each unique value in the current column\n",
        "    print( f\"Unique cnt for {col} variable: {(df_train.loc[:, col]).nunique()}\" )\n",
        "### END CODE HERE ###"
      ],
      "execution_count": 5,
      "outputs": [
        {
          "output_type": "stream",
          "text": [
            "Unique cnt for job variable: 12\n",
            "Unique cnt for marital variable: 3\n",
            "Unique cnt for education variable: 4\n",
            "Unique cnt for default variable: 2\n",
            "Unique cnt for housing variable: 2\n",
            "Unique cnt for loan variable: 2\n",
            "Unique cnt for contact variable: 3\n",
            "Unique cnt for month variable: 12\n",
            "Unique cnt for poutcome variable: 4\n",
            "Unique cnt for y variable: 2\n"
          ],
          "name": "stdout"
        }
      ]
    },
    {
      "cell_type": "markdown",
      "metadata": {
        "id": "-OHtVFr20_-l"
      },
      "source": [
        "### Exercise: Some columns are 'yes'/'no' binaries. Map them to integer binaries."
      ]
    },
    {
      "cell_type": "code",
      "metadata": {
        "id": "7ik4bT9n1LEO"
      },
      "source": [
        "### START CODE HERE ###\n",
        "# Make a list of the binary columns. There should be 4 of them. \n",
        "# Find their names in the output of the previous exercise.\n",
        "binary_columns = [col for col in non_numeric_columns if (df_train.loc[:, col]).nunique() <= 2]\n",
        "# Create a dictionary in which the keys map to the values\n",
        "# Remember, we want to replace 'no' and 'yes' with the appropriate integers\n",
        "binary_mapping = {'no': 0, 'yes': 1}\n",
        "# Map the binary columns\n",
        "for col in binary_columns:\n",
        "    # Apply the mapping to the current column with the map() method for Pandas Series\n",
        "    df_train[col] = df_train[col].map(binary_mapping)\n",
        "### END CODE HERE ###"
      ],
      "execution_count": 6,
      "outputs": []
    },
    {
      "cell_type": "markdown",
      "metadata": {
        "id": "-tZbFZRy1TdY"
      },
      "source": [
        "### Exericse: Map the months from strings to integers, with 1 corresponding to January, etc."
      ]
    },
    {
      "cell_type": "code",
      "metadata": {
        "id": "8jkMpHT-1f0d"
      },
      "source": [
        "### START CODE HERE ###\n",
        "# Create the mapping dictionary\n",
        "# Make sure the months' names are formatted properly\n",
        "month_mapping = {'jan': 1, 'feb': 2, 'mar': 3, 'apr': 4, 'may': 5, 'jun': 6, 'jul': 7, 'aug': 8, 'sep': 9, 'oct': 10, 'nov': 11, 'dec': 12}\n",
        "# Map the months\n",
        "df_train['month'] = df_train['month'].map(month_mapping)\n",
        "### END CODE HERE ###"
      ],
      "execution_count": 7,
      "outputs": []
    },
    {
      "cell_type": "code",
      "metadata": {
        "colab": {
          "base_uri": "https://localhost:8080/"
        },
        "id": "dytxFHBqLBjW",
        "outputId": "69a86b07-3f2d-4783-9d82-dad9e0e3583d"
      },
      "source": [
        "df_train.info()"
      ],
      "execution_count": 8,
      "outputs": [
        {
          "output_type": "stream",
          "text": [
            "<class 'pandas.core.frame.DataFrame'>\n",
            "RangeIndex: 45211 entries, 0 to 45210\n",
            "Data columns (total 17 columns):\n",
            " #   Column     Non-Null Count  Dtype \n",
            "---  ------     --------------  ----- \n",
            " 0   age        45211 non-null  int64 \n",
            " 1   job        45211 non-null  object\n",
            " 2   marital    45211 non-null  object\n",
            " 3   education  45211 non-null  object\n",
            " 4   default    45211 non-null  int64 \n",
            " 5   balance    45211 non-null  int64 \n",
            " 6   housing    45211 non-null  int64 \n",
            " 7   loan       45211 non-null  int64 \n",
            " 8   contact    45211 non-null  object\n",
            " 9   day        45211 non-null  int64 \n",
            " 10  month      45211 non-null  int64 \n",
            " 11  duration   45211 non-null  int64 \n",
            " 12  campaign   45211 non-null  int64 \n",
            " 13  pdays      45211 non-null  int64 \n",
            " 14  previous   45211 non-null  int64 \n",
            " 15  poutcome   45211 non-null  object\n",
            " 16  y          45211 non-null  int64 \n",
            "dtypes: int64(12), object(5)\n",
            "memory usage: 5.9+ MB\n"
          ],
          "name": "stdout"
        }
      ]
    },
    {
      "cell_type": "markdown",
      "metadata": {
        "id": "qCRK5NZY1v7A"
      },
      "source": [
        "### Exercise: One-hot encode the remaining categorical features"
      ]
    },
    {
      "cell_type": "code",
      "metadata": {
        "id": "MwyM92cd14Wj"
      },
      "source": [
        "### START CODE HERE ###\n",
        "# List the categorical features. There should be 5 of them.\n",
        "categorical_columns = df_train.select_dtypes(exclude=np.number).columns.tolist()\n",
        "# One-hot encode the categorical features with the get_dummies() function for Pandas DataFrames\n",
        "df_train = pd.get_dummies(df_train, columns=categorical_columns)\n",
        "### E3ND CODE HERE ###"
      ],
      "execution_count": 10,
      "outputs": []
    },
    {
      "cell_type": "markdown",
      "metadata": {
        "id": "I0pc6xNN2Cul"
      },
      "source": [
        "### Inspect the first few rows of our preprocessed DataFrame"
      ]
    },
    {
      "cell_type": "markdown",
      "metadata": {
        "id": "Bq4c7TFQ2OR4"
      },
      "source": [
        "### Exercise: Extract the target values from the training DataFrame"
      ]
    },
    {
      "cell_type": "code",
      "metadata": {
        "id": "YrKoG2XamTx6"
      },
      "source": [
        "### START CODE HERE ###\n",
        "# Extract the target values from the training DataFrame\n",
        "y = df_train['y'].to_numpy()[:, np.newaxis]\n",
        "# Drop the target column from the training DataFrame\n",
        "df_train = df_train.drop(axis=1, labels='y')\n",
        "### END CODE HERE ###"
      ],
      "execution_count": 11,
      "outputs": []
    },
    {
      "cell_type": "markdown",
      "metadata": {
        "id": "10g_mzUD2SpY"
      },
      "source": [
        "### Exercise: Inspect how balanced y is\n",
        "\n",
        "For a balanced binary target, approximately half of its entries will be 1"
      ]
    },
    {
      "cell_type": "code",
      "metadata": {
        "id": "439nSn-knDqq",
        "colab": {
          "base_uri": "https://localhost:8080/"
        },
        "outputId": "a1a7cddb-690b-4597-97b7-b6002cee4516"
      },
      "source": [
        "### START CODE HERE ###\n",
        "# Compute the fraction of positive values in the target\n",
        "y.mean()\n",
        "### END CODE HERE ###"
      ],
      "execution_count": 12,
      "outputs": [
        {
          "output_type": "execute_result",
          "data": {
            "text/plain": [
              "0.11698480458295547"
            ]
          },
          "metadata": {
            "tags": []
          },
          "execution_count": 12
        }
      ]
    },
    {
      "cell_type": "markdown",
      "metadata": {
        "id": "6Z6J4ulPAat8"
      },
      "source": [
        "### Print the current number of features"
      ]
    },
    {
      "cell_type": "code",
      "metadata": {
        "id": "2zIQNf8sn-ej",
        "colab": {
          "base_uri": "https://localhost:8080/"
        },
        "outputId": "3f6054c6-393e-4f06-a2b0-71d2b3b5b6b7"
      },
      "source": [
        "print(f'The training df currently has {df_train.shape[1]} features')"
      ],
      "execution_count": 13,
      "outputs": [
        {
          "output_type": "stream",
          "text": [
            "The training df currently has 37 features\n"
          ],
          "name": "stdout"
        }
      ]
    },
    {
      "cell_type": "markdown",
      "metadata": {
        "id": "dkwNHtlLAwLa"
      },
      "source": [
        "### Exercise: Visually inspect the Pearson Correlations of each feature\n",
        "\n",
        "Pandas provides the `corr()` method for DataFrames for this purpose"
      ]
    },
    {
      "cell_type": "code",
      "metadata": {
        "id": "1fivN56tpc3C",
        "colab": {
          "base_uri": "https://localhost:8080/",
          "height": 692
        },
        "outputId": "7b0ebe0c-a82d-41b6-e631-f60fe597dc69"
      },
      "source": [
        "plt.figure(figsize=(16,10))\n",
        "### START CODE HERE ###\n",
        "# Compute the Pearson Correlation of each feature in the training df\n",
        "cor = df_train.corr(method='pearson')\n",
        "### END CODE HERE ###\n",
        "# Plot the correlations\n",
        "sns.heatmap(cor)\n",
        "plt.show()\n",
        "# Some intersting correlations pop up that need further analysis (later)\n",
        "# we need to eliminate features that have very high absolute correlations"
      ],
      "execution_count": 14,
      "outputs": [
        {
          "output_type": "display_data",
          "data": {
            "image/png": "[encoded data removed]",
            "text/plain": [
              "<Figure size 1152x720 with 2 Axes>"
            ]
          },
          "metadata": {
            "tags": [],
            "needs_background": "light"
          }
        }
      ]
    },
    {
      "cell_type": "markdown",
      "metadata": {
        "id": "JZKtNfIPE6RH"
      },
      "source": [
        "## Feature Selection"
      ]
    },
    {
      "cell_type": "markdown",
      "metadata": {
        "id": "S2nx55ZHBhVf"
      },
      "source": [
        "### Exercise: Drop feature columns which have a high absolute Pearson Correlation\n",
        "\n",
        "Let's choose to drop the higher-indexed of the two correlated columns, i.e. the one that appears farther to the right in the df"
      ]
    },
    {
      "cell_type": "code",
      "metadata": {
        "id": "Vf1nQfsUpc3F",
        "colab": {
          "base_uri": "https://localhost:8080/",
          "height": 295
        },
        "outputId": "3a0387af-4a81-41b1-979c-92e7ea6c22c8"
      },
      "source": [
        "### START CODE HERE ### \n",
        "# Initialize a list indicating whether to keep a column in the training df\n",
        "# For now, set all entries to True\n",
        "keep_columns = df_train.columns.tolist()\n",
        "drop_columns = []\n",
        "# Loop over all columns\n",
        "for i in range(len(keep_columns) - 1):\n",
        "    # Loop over all columns to the right of the current one\n",
        "    for j in range(i+1, len(keep_columns)):\n",
        "        # If the absolute correlation between the current two columns is greater than or equal to 0.8...\n",
        "        if np.abs(df_train.iloc[:, i].corr(df_train.iloc[:, j])) >= 0.8:\n",
        "            # If we haven't already told the keep_columns list to drop column j...\n",
        "            if keep_columns[j] not in drop_columns:\n",
        "                # Drop column j\n",
        "                drop_columns.append(keep_columns[j])\n",
        "# Extract the columns to keep from the training df\n",
        "selected_columns = [x for x in keep_columns if x not in drop_columns]\n",
        "# Make a new df with the columns we've decided to keep from the training df\n",
        "df_out = df_train.loc[:, selected_columns]\n",
        "### END CODE HERE ###\n",
        "print('The following columns are present in the new df:')\n",
        "print(selected_columns)\n",
        "print(f'The old df had {df_train.shape[1]} features. The new df has {df_out.shape[1]} features.')\n",
        "df_train.head()"
      ],
      "execution_count": 15,
      "outputs": [
        {
          "output_type": "stream",
          "text": [
            "The following columns are present in the new df:\n",
            "['age', 'default', 'balance', 'housing', 'loan', 'day', 'month', 'duration', 'campaign', 'pdays', 'previous', 'job_admin.', 'job_blue-collar', 'job_entrepreneur', 'job_housemaid', 'job_management', 'job_retired', 'job_self-employed', 'job_services', 'job_student', 'job_technician', 'job_unemployed', 'job_unknown', 'marital_divorced', 'marital_married', 'marital_single', 'education_primary', 'education_secondary', 'education_tertiary', 'education_unknown', 'contact_cellular', 'contact_telephone', 'poutcome_failure', 'poutcome_other', 'poutcome_success']\n",
            "The old df had 37 features. The new df has 35 features.\n"
          ],
          "name": "stdout"
        },
        {
          "output_type": "execute_result",
          "data": {
            "text/html": [
              "<div>\n",
              "<style scoped>\n",
              "    .dataframe tbody tr th:only-of-type {\n",
              "        vertical-align: middle;\n",
              "    }\n",
              "\n",
              "    .dataframe tbody tr th {\n",
              "        vertical-align: top;\n",
              "    }\n",
              "\n",
              "    .dataframe thead th {\n",
              "        text-align: right;\n",
              "    }\n",
              "</style>\n",
              "<table border=\"1\" class=\"dataframe\">\n",
              "  <thead>\n",
              "    <tr style=\"text-align: right;\">\n",
              "      <th></th>\n",
              "      <th>age</th>\n",
              "      <th>default</th>\n",
              "      <th>balance</th>\n",
              "      <th>housing</th>\n",
              "      <th>loan</th>\n",
              "      <th>day</th>\n",
              "      <th>month</th>\n",
              "      <th>duration</th>\n",
              "      <th>campaign</th>\n",
              "      <th>pdays</th>\n",
              "      <th>previous</th>\n",
              "      <th>job_admin.</th>\n",
              "      <th>job_blue-collar</th>\n",
              "      <th>job_entrepreneur</th>\n",
              "      <th>job_housemaid</th>\n",
              "      <th>job_management</th>\n",
              "      <th>job_retired</th>\n",
              "      <th>job_self-employed</th>\n",
              "      <th>job_services</th>\n",
              "      <th>job_student</th>\n",
              "      <th>job_technician</th>\n",
              "      <th>job_unemployed</th>\n",
              "      <th>job_unknown</th>\n",
              "      <th>marital_divorced</th>\n",
              "      <th>marital_married</th>\n",
              "      <th>marital_single</th>\n",
              "      <th>education_primary</th>\n",
              "      <th>education_secondary</th>\n",
              "      <th>education_tertiary</th>\n",
              "      <th>education_unknown</th>\n",
              "      <th>contact_cellular</th>\n",
              "      <th>contact_telephone</th>\n",
              "      <th>contact_unknown</th>\n",
              "      <th>poutcome_failure</th>\n",
              "      <th>poutcome_other</th>\n",
              "      <th>poutcome_success</th>\n",
              "      <th>poutcome_unknown</th>\n",
              "    </tr>\n",
              "  </thead>\n",
              "  <tbody>\n",
              "    <tr>\n",
              "      <th>0</th>\n",
              "      <td>58</td>\n",
              "      <td>0</td>\n",
              "      <td>2143</td>\n",
              "      <td>1</td>\n",
              "      <td>0</td>\n",
              "      <td>5</td>\n",
              "      <td>5</td>\n",
              "      <td>261</td>\n",
              "      <td>1</td>\n",
              "      <td>-1</td>\n",
              "      <td>0</td>\n",
              "      <td>0</td>\n",
              "      <td>0</td>\n",
              "      <td>0</td>\n",
              "      <td>0</td>\n",
              "      <td>1</td>\n",
              "      <td>0</td>\n",
              "      <td>0</td>\n",
              "      <td>0</td>\n",
              "      <td>0</td>\n",
              "      <td>0</td>\n",
              "      <td>0</td>\n",
              "      <td>0</td>\n",
              "      <td>0</td>\n",
              "      <td>1</td>\n",
              "      <td>0</td>\n",
              "      <td>0</td>\n",
              "      <td>0</td>\n",
              "      <td>1</td>\n",
              "      <td>0</td>\n",
              "      <td>0</td>\n",
              "      <td>0</td>\n",
              "      <td>1</td>\n",
              "      <td>0</td>\n",
              "      <td>0</td>\n",
              "      <td>0</td>\n",
              "      <td>1</td>\n",
              "    </tr>\n",
              "    <tr>\n",
              "      <th>1</th>\n",
              "      <td>44</td>\n",
              "      <td>0</td>\n",
              "      <td>29</td>\n",
              "      <td>1</td>\n",
              "      <td>0</td>\n",
              "      <td>5</td>\n",
              "      <td>5</td>\n",
              "      <td>151</td>\n",
              "      <td>1</td>\n",
              "      <td>-1</td>\n",
              "      <td>0</td>\n",
              "      <td>0</td>\n",
              "      <td>0</td>\n",
              "      <td>0</td>\n",
              "      <td>0</td>\n",
              "      <td>0</td>\n",
              "      <td>0</td>\n",
              "      <td>0</td>\n",
              "      <td>0</td>\n",
              "      <td>0</td>\n",
              "      <td>1</td>\n",
              "      <td>0</td>\n",
              "      <td>0</td>\n",
              "      <td>0</td>\n",
              "      <td>0</td>\n",
              "      <td>1</td>\n",
              "      <td>0</td>\n",
              "      <td>1</td>\n",
              "      <td>0</td>\n",
              "      <td>0</td>\n",
              "      <td>0</td>\n",
              "      <td>0</td>\n",
              "      <td>1</td>\n",
              "      <td>0</td>\n",
              "      <td>0</td>\n",
              "      <td>0</td>\n",
              "      <td>1</td>\n",
              "    </tr>\n",
              "    <tr>\n",
              "      <th>2</th>\n",
              "      <td>33</td>\n",
              "      <td>0</td>\n",
              "      <td>2</td>\n",
              "      <td>1</td>\n",
              "      <td>1</td>\n",
              "      <td>5</td>\n",
              "      <td>5</td>\n",
              "      <td>76</td>\n",
              "      <td>1</td>\n",
              "      <td>-1</td>\n",
              "      <td>0</td>\n",
              "      <td>0</td>\n",
              "      <td>0</td>\n",
              "      <td>1</td>\n",
              "      <td>0</td>\n",
              "      <td>0</td>\n",
              "      <td>0</td>\n",
              "      <td>0</td>\n",
              "      <td>0</td>\n",
              "      <td>0</td>\n",
              "      <td>0</td>\n",
              "      <td>0</td>\n",
              "      <td>0</td>\n",
              "      <td>0</td>\n",
              "      <td>1</td>\n",
              "      <td>0</td>\n",
              "      <td>0</td>\n",
              "      <td>1</td>\n",
              "      <td>0</td>\n",
              "      <td>0</td>\n",
              "      <td>0</td>\n",
              "      <td>0</td>\n",
              "      <td>1</td>\n",
              "      <td>0</td>\n",
              "      <td>0</td>\n",
              "      <td>0</td>\n",
              "      <td>1</td>\n",
              "    </tr>\n",
              "    <tr>\n",
              "      <th>3</th>\n",
              "      <td>47</td>\n",
              "      <td>0</td>\n",
              "      <td>1506</td>\n",
              "      <td>1</td>\n",
              "      <td>0</td>\n",
              "      <td>5</td>\n",
              "      <td>5</td>\n",
              "      <td>92</td>\n",
              "      <td>1</td>\n",
              "      <td>-1</td>\n",
              "      <td>0</td>\n",
              "      <td>0</td>\n",
              "      <td>1</td>\n",
              "      <td>0</td>\n",
              "      <td>0</td>\n",
              "      <td>0</td>\n",
              "      <td>0</td>\n",
              "      <td>0</td>\n",
              "      <td>0</td>\n",
              "      <td>0</td>\n",
              "      <td>0</td>\n",
              "      <td>0</td>\n",
              "      <td>0</td>\n",
              "      <td>0</td>\n",
              "      <td>1</td>\n",
              "      <td>0</td>\n",
              "      <td>0</td>\n",
              "      <td>0</td>\n",
              "      <td>0</td>\n",
              "      <td>1</td>\n",
              "      <td>0</td>\n",
              "      <td>0</td>\n",
              "      <td>1</td>\n",
              "      <td>0</td>\n",
              "      <td>0</td>\n",
              "      <td>0</td>\n",
              "      <td>1</td>\n",
              "    </tr>\n",
              "    <tr>\n",
              "      <th>4</th>\n",
              "      <td>33</td>\n",
              "      <td>0</td>\n",
              "      <td>1</td>\n",
              "      <td>0</td>\n",
              "      <td>0</td>\n",
              "      <td>5</td>\n",
              "      <td>5</td>\n",
              "      <td>198</td>\n",
              "      <td>1</td>\n",
              "      <td>-1</td>\n",
              "      <td>0</td>\n",
              "      <td>0</td>\n",
              "      <td>0</td>\n",
              "      <td>0</td>\n",
              "      <td>0</td>\n",
              "      <td>0</td>\n",
              "      <td>0</td>\n",
              "      <td>0</td>\n",
              "      <td>0</td>\n",
              "      <td>0</td>\n",
              "      <td>0</td>\n",
              "      <td>0</td>\n",
              "      <td>1</td>\n",
              "      <td>0</td>\n",
              "      <td>0</td>\n",
              "      <td>1</td>\n",
              "      <td>0</td>\n",
              "      <td>0</td>\n",
              "      <td>0</td>\n",
              "      <td>1</td>\n",
              "      <td>0</td>\n",
              "      <td>0</td>\n",
              "      <td>1</td>\n",
              "      <td>0</td>\n",
              "      <td>0</td>\n",
              "      <td>0</td>\n",
              "      <td>1</td>\n",
              "    </tr>\n",
              "  </tbody>\n",
              "</table>\n",
              "</div>"
            ],
            "text/plain": [
              "   age  default  balance  ...  poutcome_other  poutcome_success  poutcome_unknown\n",
              "0   58        0     2143  ...               0                 0                 1\n",
              "1   44        0       29  ...               0                 0                 1\n",
              "2   33        0        2  ...               0                 0                 1\n",
              "3   47        0     1506  ...               0                 0                 1\n",
              "4   33        0        1  ...               0                 0                 1\n",
              "\n",
              "[5 rows x 37 columns]"
            ]
          },
          "metadata": {
            "tags": []
          },
          "execution_count": 15
        }
      ]
    },
    {
      "cell_type": "markdown",
      "metadata": {
        "id": "53PikdK0FMIm"
      },
      "source": [
        "### Feature Selection on p-value (statistical significance to Y value)"
      ]
    },
    {
      "cell_type": "code",
      "metadata": {
        "id": "h4f9H6mOpc3H"
      },
      "source": [
        "selected_columns = selected_columns[0:]\n",
        "import statsmodels.api as sm\n",
        "def backwardElimination(x, y, sl, columns):\n",
        "    numVars = len(x[0])\n",
        "    for i in range(0, numVars):\n",
        "        regressor_OLS = sm.OLS(y, x).fit()\n",
        "        #maxVar = max(regressor_OLS.pvalues).astype(float)\n",
        "        maxVar = max(regressor_OLS.pvalues)\n",
        "        if maxVar > sl:\n",
        "            for j in range(0, numVars - i):\n",
        "                if (regressor_OLS.pvalues[j].astype(float) == maxVar):\n",
        "                    x = np.delete(x, j, 1)\n",
        "                    columns = np.delete(columns, j)\n",
        "                    \n",
        "    regressor_OLS.summary()\n",
        "    return x, columns\n",
        "SL = 0.01\n",
        "# Note that we're passing in df_out, not df_train\n",
        "data_modeled, selected_columns = backwardElimination(df_out.values, y, SL, selected_columns)"
      ],
      "execution_count": 16,
      "outputs": []
    },
    {
      "cell_type": "code",
      "metadata": {
        "id": "QRjpdwWfpc3L",
        "colab": {
          "base_uri": "https://localhost:8080/"
        },
        "outputId": "799c919d-6c0f-4adf-877d-e296be11b879"
      },
      "source": [
        "print('The following columns remain based on p-value selection:')\n",
        "print(selected_columns)\n",
        "# Make a reduced df\n",
        "data_red = pd.DataFrame(data = data_modeled, columns = selected_columns)\n",
        "print(f'After selection by Pearson Correlation, we had {df_out.shape[1]} features.')\n",
        "print(f'After selection by p-value, we have {data_red.shape[1]} features.')"
      ],
      "execution_count": 17,
      "outputs": [
        {
          "output_type": "stream",
          "text": [
            "The following columns remain based on p-value selection:\n",
            "['balance' 'housing' 'loan' 'month' 'duration' 'campaign' 'job_admin.'\n",
            " 'job_retired' 'job_student' 'marital_married' 'education_primary'\n",
            " 'education_secondary' 'contact_cellular' 'contact_telephone'\n",
            " 'poutcome_failure' 'poutcome_other' 'poutcome_success']\n",
            "After selection by Pearson Correlation, we had 35 features.\n",
            "After selection by p-value, we have 17 features.\n"
          ],
          "name": "stdout"
        }
      ]
    },
    {
      "cell_type": "markdown",
      "metadata": {
        "id": "r8RUeRBHI1ai"
      },
      "source": [
        "### Visualize the distributions of the selected features\n",
        "\n",
        "Ignore the deprecation warnings"
      ]
    },
    {
      "cell_type": "code",
      "metadata": {
        "id": "I6XzPfPcpc3O",
        "colab": {
          "base_uri": "https://localhost:8080/",
          "height": 1000
        },
        "outputId": "234bf857-2d3e-4d76-9619-e7c676394b77"
      },
      "source": [
        "# Visualize the selected features\n",
        "fig = plt.figure(figsize = (20, 25))\n",
        "j = 0\n",
        "for i in data_red.columns:\n",
        "    plt.subplot(7, 4, j+1)\n",
        "    j += 1\n",
        "    sns.histplot(data_red[i][np.ravel(y)==0], color='g', label = 'no')\n",
        "    #sns.disttplot(data_red[i][np.ravel(y)==0], color='g', label = 'no')\n",
        "    sns.histplot(data_red[i][np.ravel(y)==1], color='r', label = 'yes')\n",
        "    plt.legend(loc='best')\n",
        "fig.suptitle('Subscription Feature Analysis')\n",
        "fig.tight_layout()\n",
        "fig.subplots_adjust(top=0.95)\n",
        "plt.show()"
      ],
      "execution_count": 18,
      "outputs": [
        {
          "output_type": "display_data",
          "data": {
            "image/png": "[encoded data removed]",
            "text/plain": [
              "<Figure size 1440x1800 with 17 Axes>"
            ]
          },
          "metadata": {
            "tags": [],
            "needs_background": "light"
          }
        }
      ]
    },
    {
      "cell_type": "markdown",
      "metadata": {
        "id": "zUESDMGAJTOD"
      },
      "source": [
        "### Exercise: Cross-validated LASSO feature importance"
      ]
    },
    {
      "cell_type": "code",
      "metadata": {
        "id": "CZCAm2cny8IU",
        "colab": {
          "base_uri": "https://localhost:8080/"
        },
        "outputId": "61a01e65-cb92-4cd8-e7cf-2b26723ff21d"
      },
      "source": [
        "### START CODE HERE ###\n",
        "# Instantiate the cross-validated LASSO regressor\n",
        "reg = LassoCV(cv=5)\n",
        "# Train the regressor on the reduced df\n",
        "reg.fit(data_red, np.ravel(y))\n",
        "### END CODE HERE ###\n",
        "print(\"Best alpha using built-in LassoCV: %f\" % reg.alpha_)\n",
        "print(\"Best score using built-in LassoCV: %f\" %reg.score(data_red, y))\n",
        "coef = pd.Series(reg.coef_, index = data_red.columns)\n",
        "print(f\"Lasso picked {sum(coef != 0)} features and eliminated the other {sum(coef == 0)} features\")"
      ],
      "execution_count": 19,
      "outputs": [
        {
          "output_type": "stream",
          "text": [
            "Best alpha using built-in LassoCV: 0.059450\n",
            "Best score using built-in LassoCV: 0.157613\n",
            "Lasso picked 2 features and eliminated the other 15 features\n"
          ],
          "name": "stdout"
        }
      ]
    },
    {
      "cell_type": "markdown",
      "metadata": {
        "id": "N-nSBxmEKPh5"
      },
      "source": [
        "### Visualize the LASSO feature importances"
      ]
    },
    {
      "cell_type": "code",
      "metadata": {
        "id": "h80oTFv8pc3T",
        "colab": {
          "base_uri": "https://localhost:8080/",
          "height": 624
        },
        "outputId": "68fb2203-3b4c-48ba-e5ee-bd769fc5dc47"
      },
      "source": [
        "imp_coef = coef.sort_values()\n",
        "import matplotlib\n",
        "matplotlib.rcParams['figure.figsize'] = (8.0, 10.0)\n",
        "imp_coef.plot(kind = \"barh\")\n",
        "plt.title(\"Feature importance using Lasso Model\")\n",
        "#pdays is the only other feature here"
      ],
      "execution_count": 20,
      "outputs": [
        {
          "output_type": "execute_result",
          "data": {
            "text/plain": [
              "Text(0.5, 1.0, 'Feature importance using Lasso Model')"
            ]
          },
          "metadata": {
            "tags": []
          },
          "execution_count": 20
        },
        {
          "output_type": "display_data",
          "data": {
            "image/png": "[encoded data removed]",
            "text/plain": [
              "<Figure size 576x720 with 1 Axes>"
            ]
          },
          "metadata": {
            "tags": [],
            "needs_background": "light"
          }
        }
      ]
    },
    {
      "cell_type": "markdown",
      "metadata": {
        "id": "Quusm-TAKgNj"
      },
      "source": [
        "### Print summary statistics for the reduced df"
      ]
    },
    {
      "cell_type": "code",
      "metadata": {
        "id": "U-e5nMiApc3W",
        "colab": {
          "base_uri": "https://localhost:8080/",
          "height": 320
        },
        "outputId": "4bb040d1-88ae-4678-a898-5e80bc09171a"
      },
      "source": [
        "data_red.describe()"
      ],
      "execution_count": 21,
      "outputs": [
        {
          "output_type": "execute_result",
          "data": {
            "text/html": [
              "<div>\n",
              "<style scoped>\n",
              "    .dataframe tbody tr th:only-of-type {\n",
              "        vertical-align: middle;\n",
              "    }\n",
              "\n",
              "    .dataframe tbody tr th {\n",
              "        vertical-align: top;\n",
              "    }\n",
              "\n",
              "    .dataframe thead th {\n",
              "        text-align: right;\n",
              "    }\n",
              "</style>\n",
              "<table border=\"1\" class=\"dataframe\">\n",
              "  <thead>\n",
              "    <tr style=\"text-align: right;\">\n",
              "      <th></th>\n",
              "      <th>balance</th>\n",
              "      <th>housing</th>\n",
              "      <th>loan</th>\n",
              "      <th>month</th>\n",
              "      <th>duration</th>\n",
              "      <th>campaign</th>\n",
              "      <th>job_admin.</th>\n",
              "      <th>job_retired</th>\n",
              "      <th>job_student</th>\n",
              "      <th>marital_married</th>\n",
              "      <th>education_primary</th>\n",
              "      <th>education_secondary</th>\n",
              "      <th>contact_cellular</th>\n",
              "      <th>contact_telephone</th>\n",
              "      <th>poutcome_failure</th>\n",
              "      <th>poutcome_other</th>\n",
              "      <th>poutcome_success</th>\n",
              "    </tr>\n",
              "  </thead>\n",
              "  <tbody>\n",
              "    <tr>\n",
              "      <th>count</th>\n",
              "      <td>45211.000000</td>\n",
              "      <td>45211.000000</td>\n",
              "      <td>45211.000000</td>\n",
              "      <td>45211.000000</td>\n",
              "      <td>45211.000000</td>\n",
              "      <td>45211.000000</td>\n",
              "      <td>45211.000000</td>\n",
              "      <td>45211.000000</td>\n",
              "      <td>45211.000000</td>\n",
              "      <td>45211.000000</td>\n",
              "      <td>45211.000000</td>\n",
              "      <td>45211.000000</td>\n",
              "      <td>45211.000000</td>\n",
              "      <td>45211.000000</td>\n",
              "      <td>45211.000000</td>\n",
              "      <td>45211.000000</td>\n",
              "      <td>45211.000000</td>\n",
              "    </tr>\n",
              "    <tr>\n",
              "      <th>mean</th>\n",
              "      <td>1362.272058</td>\n",
              "      <td>0.555838</td>\n",
              "      <td>0.160226</td>\n",
              "      <td>6.144655</td>\n",
              "      <td>258.163080</td>\n",
              "      <td>2.763841</td>\n",
              "      <td>0.114375</td>\n",
              "      <td>0.050076</td>\n",
              "      <td>0.020747</td>\n",
              "      <td>0.601933</td>\n",
              "      <td>0.151534</td>\n",
              "      <td>0.513194</td>\n",
              "      <td>0.647741</td>\n",
              "      <td>0.064276</td>\n",
              "      <td>0.108403</td>\n",
              "      <td>0.040698</td>\n",
              "      <td>0.033421</td>\n",
              "    </tr>\n",
              "    <tr>\n",
              "      <th>std</th>\n",
              "      <td>3044.765829</td>\n",
              "      <td>0.496878</td>\n",
              "      <td>0.366820</td>\n",
              "      <td>2.408034</td>\n",
              "      <td>257.527812</td>\n",
              "      <td>3.098021</td>\n",
              "      <td>0.318269</td>\n",
              "      <td>0.218105</td>\n",
              "      <td>0.142538</td>\n",
              "      <td>0.489505</td>\n",
              "      <td>0.358572</td>\n",
              "      <td>0.499831</td>\n",
              "      <td>0.477680</td>\n",
              "      <td>0.245247</td>\n",
              "      <td>0.310892</td>\n",
              "      <td>0.197592</td>\n",
              "      <td>0.179735</td>\n",
              "    </tr>\n",
              "    <tr>\n",
              "      <th>min</th>\n",
              "      <td>-8019.000000</td>\n",
              "      <td>0.000000</td>\n",
              "      <td>0.000000</td>\n",
              "      <td>1.000000</td>\n",
              "      <td>0.000000</td>\n",
              "      <td>1.000000</td>\n",
              "      <td>0.000000</td>\n",
              "      <td>0.000000</td>\n",
              "      <td>0.000000</td>\n",
              "      <td>0.000000</td>\n",
              "      <td>0.000000</td>\n",
              "      <td>0.000000</td>\n",
              "      <td>0.000000</td>\n",
              "      <td>0.000000</td>\n",
              "      <td>0.000000</td>\n",
              "      <td>0.000000</td>\n",
              "      <td>0.000000</td>\n",
              "    </tr>\n",
              "    <tr>\n",
              "      <th>25%</th>\n",
              "      <td>72.000000</td>\n",
              "      <td>0.000000</td>\n",
              "      <td>0.000000</td>\n",
              "      <td>5.000000</td>\n",
              "      <td>103.000000</td>\n",
              "      <td>1.000000</td>\n",
              "      <td>0.000000</td>\n",
              "      <td>0.000000</td>\n",
              "      <td>0.000000</td>\n",
              "      <td>0.000000</td>\n",
              "      <td>0.000000</td>\n",
              "      <td>0.000000</td>\n",
              "      <td>0.000000</td>\n",
              "      <td>0.000000</td>\n",
              "      <td>0.000000</td>\n",
              "      <td>0.000000</td>\n",
              "      <td>0.000000</td>\n",
              "    </tr>\n",
              "    <tr>\n",
              "      <th>50%</th>\n",
              "      <td>448.000000</td>\n",
              "      <td>1.000000</td>\n",
              "      <td>0.000000</td>\n",
              "      <td>6.000000</td>\n",
              "      <td>180.000000</td>\n",
              "      <td>2.000000</td>\n",
              "      <td>0.000000</td>\n",
              "      <td>0.000000</td>\n",
              "      <td>0.000000</td>\n",
              "      <td>1.000000</td>\n",
              "      <td>0.000000</td>\n",
              "      <td>1.000000</td>\n",
              "      <td>1.000000</td>\n",
              "      <td>0.000000</td>\n",
              "      <td>0.000000</td>\n",
              "      <td>0.000000</td>\n",
              "      <td>0.000000</td>\n",
              "    </tr>\n",
              "    <tr>\n",
              "      <th>75%</th>\n",
              "      <td>1428.000000</td>\n",
              "      <td>1.000000</td>\n",
              "      <td>0.000000</td>\n",
              "      <td>8.000000</td>\n",
              "      <td>319.000000</td>\n",
              "      <td>3.000000</td>\n",
              "      <td>0.000000</td>\n",
              "      <td>0.000000</td>\n",
              "      <td>0.000000</td>\n",
              "      <td>1.000000</td>\n",
              "      <td>0.000000</td>\n",
              "      <td>1.000000</td>\n",
              "      <td>1.000000</td>\n",
              "      <td>0.000000</td>\n",
              "      <td>0.000000</td>\n",
              "      <td>0.000000</td>\n",
              "      <td>0.000000</td>\n",
              "    </tr>\n",
              "    <tr>\n",
              "      <th>max</th>\n",
              "      <td>102127.000000</td>\n",
              "      <td>1.000000</td>\n",
              "      <td>1.000000</td>\n",
              "      <td>12.000000</td>\n",
              "      <td>4918.000000</td>\n",
              "      <td>63.000000</td>\n",
              "      <td>1.000000</td>\n",
              "      <td>1.000000</td>\n",
              "      <td>1.000000</td>\n",
              "      <td>1.000000</td>\n",
              "      <td>1.000000</td>\n",
              "      <td>1.000000</td>\n",
              "      <td>1.000000</td>\n",
              "      <td>1.000000</td>\n",
              "      <td>1.000000</td>\n",
              "      <td>1.000000</td>\n",
              "      <td>1.000000</td>\n",
              "    </tr>\n",
              "  </tbody>\n",
              "</table>\n",
              "</div>"
            ],
            "text/plain": [
              "             balance       housing  ...  poutcome_other  poutcome_success\n",
              "count   45211.000000  45211.000000  ...    45211.000000      45211.000000\n",
              "mean     1362.272058      0.555838  ...        0.040698          0.033421\n",
              "std      3044.765829      0.496878  ...        0.197592          0.179735\n",
              "min     -8019.000000      0.000000  ...        0.000000          0.000000\n",
              "25%        72.000000      0.000000  ...        0.000000          0.000000\n",
              "50%       448.000000      1.000000  ...        0.000000          0.000000\n",
              "75%      1428.000000      1.000000  ...        0.000000          0.000000\n",
              "max    102127.000000      1.000000  ...        1.000000          1.000000\n",
              "\n",
              "[8 rows x 17 columns]"
            ]
          },
          "metadata": {
            "tags": []
          },
          "execution_count": 21
        }
      ]
    },
    {
      "cell_type": "markdown",
      "metadata": {
        "id": "ziw5vUYGLb-_"
      },
      "source": [
        "## Random Forest Classification"
      ]
    },
    {
      "cell_type": "markdown",
      "metadata": {
        "id": "z0Q8IPz4MCl4"
      },
      "source": [
        "### First, import some convenience functions and perform a 70-30 train-test split split on the (reduced) training data"
      ]
    },
    {
      "cell_type": "code",
      "metadata": {
        "id": "OJyPKyeCpc3Y"
      },
      "source": [
        "from sklearn.model_selection import cross_val_score\n",
        "from numpy import mean\n",
        "#x_train, x_test, y_train, y_test = train_test_split(data_red.values, y.values, test_size = 0.3)\n",
        "x_train, x_test, y_train, y_test = train_test_split(data_red.values, y, test_size = 0.3)"
      ],
      "execution_count": 22,
      "outputs": []
    },
    {
      "cell_type": "markdown",
      "metadata": {
        "id": "qT1-v-OlLgAu"
      },
      "source": [
        "### Exercise: Default Random Forest Classifier, without balancing"
      ]
    },
    {
      "cell_type": "code",
      "metadata": {
        "id": "yufO3v0wpc3a",
        "colab": {
          "base_uri": "https://localhost:8080/"
        },
        "outputId": "3c5649d8-4f7d-4cd1-9e69-b1e195420c10"
      },
      "source": [
        "### START CODE HERE ###\n",
        "# Instantiate the classifier\n",
        "# Set the max depth to 10 and the random state to 0\n",
        "clf = RandomForestClassifier(max_depth=10, random_state=0)\n",
        "# Train the classifier\n",
        "clf.fit(x_train, np.ravel(y_train))\n",
        "# Use the classifier to make predictions from the test features\n",
        "prediction = clf.predict(x_test)\n",
        "# Compute the confusion matrix between the true and predicted test targets\n",
        "cm = confusion_matrix(y_test, prediction)\n",
        "# Compute the model's accuracy by summing the diagonals of the confusion matrix\n",
        "# (i.e. taking its trace) and dividing by the number of test samples\n",
        "accuracy = np.trace(cm) / np.sum(cm)\n",
        "### END CODE HERE ###\n",
        "print(f\"Accuracy = {accuracy :.3f}\")\n",
        "recall_scores = cross_val_score(clf, x_test, np.ravel(y_test), scoring='recall', cv=5)\n",
        "f1_scores = cross_val_score(clf, x_test, np.ravel(y_test), scoring='f1', cv=5)\n",
        "print(f'Mean Recall = {mean(recall_scores):.3f}')\n",
        "print(f'Mean F1 Score = {mean(f1_scores):.3f}')\n",
        "print(cm)"
      ],
      "execution_count": 23,
      "outputs": [
        {
          "output_type": "stream",
          "text": [
            "Accuracy = 0.898\n",
            "Mean Recall = 0.301\n",
            "Mean F1 Score = 0.416\n",
            "[[11705   229]\n",
            " [ 1160   470]]\n"
          ],
          "name": "stdout"
        }
      ]
    },
    {
      "cell_type": "markdown",
      "metadata": {
        "id": "le3pcONnUt7c"
      },
      "source": [
        "### Exercise: Random Forest Classifier with weight balancing\n",
        "\n",
        "The target class is highly imbalanced; recall from earlier that only about 11.7% of loan applicants in this dataset are approved. One way around this is to add weight balancing to the classifier.\n",
        "\n",
        "This exercise is otherwise a repeat of the previous one."
      ]
    },
    {
      "cell_type": "code",
      "metadata": {
        "id": "_DJd_Z9lpc3d",
        "colab": {
          "base_uri": "https://localhost:8080/"
        },
        "outputId": "e53a7f2b-ecc9-466c-9054-61ba68efaa2c"
      },
      "source": [
        "### START CODE HERE ###\n",
        "# Instantiate the classifier\n",
        "# Set the max depth to 10, the random state to 0, and the class_weight to 'balanced'\n",
        "clf = RandomForestClassifier(max_depth=10, random_state=0, class_weight='balanced')\n",
        "# Train the classifier\n",
        "clf.fit(x_train, np.ravel(y_train))\n",
        "# Use the classifier to make predictions from the test features\n",
        "prediction = clf.predict(x_test)\n",
        "# Compute the confusion matrix between the true and predicted test targets\n",
        "cm = confusion_matrix(y_test, prediction)\n",
        "# Compute the model's accuracy by summing the diagonals of the confusion matrix\n",
        "# (i.e. taking its trace) and dividing by the number of test samples\n",
        "accuracy = np.trace(cm) / np.sum(cm)\n",
        "### END CODE HERE ###\n",
        "print(f\"Accuracy = {accuracy}\")\n",
        "recall_scores = cross_val_score(clf, x_test, np.ravel(y_test), scoring='recall', cv=5)\n",
        "f1_scores = cross_val_score(clf, x_test, np.ravel(y_test), scoring='f1', cv=5)\n",
        "print(f'Mean Recall = {mean(recall_scores):.3f}')\n",
        "print(f'Mean F1 Score = {mean(f1_scores):.3f}')\n",
        "print(cm)"
      ],
      "execution_count": 24,
      "outputs": [
        {
          "output_type": "stream",
          "text": [
            "Accuracy = 0.8361102919492776\n",
            "Mean Recall = 0.765\n",
            "Mean F1 Score = 0.548\n",
            "[[9987 1947]\n",
            " [ 276 1354]]\n"
          ],
          "name": "stdout"
        }
      ]
    }
  ]
}